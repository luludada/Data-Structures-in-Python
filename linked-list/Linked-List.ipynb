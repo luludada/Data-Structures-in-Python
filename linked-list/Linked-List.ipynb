{
 "cells": [
  {
   "cell_type": "markdown",
   "metadata": {},
   "source": [
    "# Linked Lists"
   ]
  },
  {
   "cell_type": "code",
   "execution_count": null,
   "metadata": {},
   "outputs": [],
   "source": [
    "class Node(object):\n",
    "    def __init__(self, data=None, next=None):\n",
    "        self.data = data\n",
    "        self.next = next\n",
    "\n",
    "class single_linked_list(object):\n",
    "    def __init__(self):\n",
    "        self.head = Node()\n",
    "    \n",
    "    def append(self, data):\n",
    "        new_node = Node(data)\n",
    "        temp = self.head\n",
    "        while(temp.next != None):\n",
    "            temp = temp.next\n",
    "        temp.next = new_node\n",
    "    \n",
    "    def length(self):\n",
    "        cur = self.head\n",
    "        total = 0\n",
    "        while(cur.next != None):\n",
    "            cur = cur.next\n",
    "            total += 1\n",
    "        return total\n",
    "    \n",
    "    def display(self):\n",
    "        elems = []\n",
    "        cur = self.head\n",
    "        while(cur.next != None):\n",
    "            elems.append(cur.data)\n",
    "            cur = cur.next\n",
    "        print(elems)\n",
    "    \n",
    "    def delete(self, data):\n",
    "        temp = self.head\n",
    "        if(temp.next != None):\n",
    "            if(temp.data == data):\n",
    "                self.head = temp.next\n",
    "                temp = None\n",
    "                return\n",
    "            else:\n",
    "                while(temp.next != None):\n",
    "                    if(temp.data == data):\n",
    "                        break\n",
    "                    prev = temp\n",
    "                    temp = temp.next\n",
    "                \n",
    "                if temp == None:\n",
    "                    return\n",
    "                \n",
    "                prev.next = temp.next\n",
    "                return\n",
    "            \n",
    "    def search(self, data):\n",
    "        cur = self.head\n",
    "        while(cur != None && cur.data == data):\n",
    "            cur = cur.next\n",
    "        \n",
    "        return cur\n",
    "        \n",
    "        "
   ]
  },
  {
   "cell_type": "code",
   "execution_count": null,
   "metadata": {},
   "outputs": [],
   "source": []
  }
 ],
 "metadata": {
  "kernelspec": {
   "display_name": "Python 3",
   "language": "python",
   "name": "python3"
  },
  "language_info": {
   "codemirror_mode": {
    "name": "ipython",
    "version": 3
   },
   "file_extension": ".py",
   "mimetype": "text/x-python",
   "name": "python",
   "nbconvert_exporter": "python",
   "pygments_lexer": "ipython3",
   "version": "3.8.5"
  }
 },
 "nbformat": 4,
 "nbformat_minor": 4
}
