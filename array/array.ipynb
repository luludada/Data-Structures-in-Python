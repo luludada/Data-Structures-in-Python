{
 "cells": [
  {
   "cell_type": "markdown",
   "metadata": {},
   "source": [
    "# Python Dynamic Array Implementation"
   ]
  },
  {
   "cell_type": "markdown",
   "metadata": {},
   "source": [
    "What is an Array?"
   ]
  },
  {
   "cell_type": "code",
   "execution_count": 42,
   "metadata": {},
   "outputs": [],
   "source": [
    "import ctypes\n",
    "class Array:\n",
    "    \"\"\" Initializes DynamicArray with 0 elements, capacity of 1, an empty compact\n",
    "        array of length 1 for storing pointers, and a growth factor of 2 such that the\n",
    "        capacity will double each time that the array becomes full and shrink in half\n",
    "        when less than 1/4 of the capacity is full.\n",
    "    \"\"\"\n",
    "    def __init__(self):\n",
    "        self._length = 0   # Default Length \n",
    "        self._capacity = 1 # Default Capacity\n",
    "        self._arr = self.make_array(self._capacity)\n",
    "        \n",
    "    def __len__(self):\n",
    "        \"\"\"\n",
    "        Return length of array\n",
    "        \"\"\"\n",
    "        return self._length\n",
    "    \n",
    "    def __str__(self):\n",
    "        return ' '.join([str(i) for i in self._arr])\n",
    "    \n",
    "    def get(self, k):\n",
    "        \"\"\"\n",
    "        Return element at index k\n",
    "        \"\"\"\n",
    "        if not (k >= 0 and k < len(self)):\n",
    "            # Check it k index is in bounds of array\n",
    "            return IndexError('K is out of bounds !') \n",
    "        return self._arr[k] # Retrieve from the array at index k\n",
    "    \n",
    "    def set(self, k, item):\n",
    "        \"\"\"\n",
    "        Set element item at index k\n",
    "        \"\"\"\n",
    "        if not (k >= 0 and k < len(self)):\n",
    "            # Check it k index is in bounds of array\n",
    "            return IndexError('K is out of bounds !') \n",
    "        self._arr[k] = item\n",
    "        \n",
    "    def append(self, item):\n",
    "        if self._length == self._capacity:\n",
    "            # Double capacity if not enough room\n",
    "            self._resize(2 * self._capacity) \n",
    "            \n",
    "        self._arr[self._length] = item # Set self._length index to element\n",
    "        self._length += 1\n",
    "    \n",
    "    def delete(self):\n",
    "        \"\"\"\n",
    "        This function deletes item from the end of array\n",
    "        \"\"\"\n",
    "  \n",
    "        if self._length == 0:\n",
    "            print(\"Array is empty deletion not Possible\")\n",
    "            return\n",
    "          \n",
    "        self._arr[self._length - 1] = 0\n",
    "        self._length -= 1\n",
    "    \n",
    "    def insertAt(self,item, index):\n",
    "        \"\"\"\n",
    "         This function inserts the item at any specified index.\n",
    "        \"\"\"\n",
    "  \n",
    "          \n",
    "        if index<0 or index>self._length:\n",
    "            print(\"please enter appropriate index..\")\n",
    "            return\n",
    "          \n",
    "        if self._length == self._length:\n",
    "            self._resize(2*self._capacity)\n",
    "              \n",
    "          \n",
    "        for i in range(self._length-1, index-1, -1):\n",
    "            self._arr[i+1] = self._arr[i]\n",
    "              \n",
    "          \n",
    "        self.A[index] = item\n",
    "        self._length += 1\n",
    "        \n",
    "    def removeAt(self,index):\n",
    "        \"\"\"\n",
    "        This function deletes item from a specified index..\n",
    "        \"\"\"        \n",
    "        if self._length==0:\n",
    "            print(\"Array is empty deletion not Possible\")\n",
    "            return\n",
    "                  \n",
    "        if index<0 or index>=self.n:\n",
    "            return IndexError(\"Index out of bound....deletion not possible\")        \n",
    "          \n",
    "        if index == self._length-1:\n",
    "            self._arr[index] = 0\n",
    "            self._length -= 1\n",
    "            return        \n",
    "          \n",
    "        for i in range(index, self._length-1):\n",
    "            self._arr[i]=self._arr[i+1]            \n",
    "              \n",
    "        self._arr[self._length - 1] = 0\n",
    "        self._length -= 1\n",
    "        \n",
    "    def clear(self, value):\n",
    "        \"\"\"\n",
    "        Clears the array by setting each element to the given value.\n",
    "        \"\"\"\n",
    "        for i in range(len(self)):\n",
    "            self._arr[i] = value\n",
    "            \n",
    "    def _resize(self, new_cap):\n",
    "        \"\"\"\n",
    "        Resize internal array to capacity new_cap\n",
    "        \"\"\"\n",
    "          \n",
    "        B = self.make_array(new_cap) # New bigger array\n",
    "          \n",
    "        for k in range(self._length): # Reference all existing values\n",
    "            B[k] = self._arr[k]\n",
    "              \n",
    "        self._arr = B            # Call A the new bigger array\n",
    "        self._capacity = new_cap # Reset the capacity\n",
    "    \n",
    "    def make_array(self, new_cap):\n",
    "        \"\"\"\n",
    "        Returns a new array with new_cap capacity\n",
    "        \"\"\"\n",
    "        return (new_cap * ctypes.py_object)()\n",
    "    \n",
    "    def search(self, item):\n",
    "        \"\"\"\n",
    "        Returns index for search item, otherwise, return -1 if not found\n",
    "        \"\"\"\n",
    "        for i in range(self._length):\n",
    "            if(self._arr[i] == item):\n",
    "                return i\n",
    "        return -1"
   ]
  },
  {
   "cell_type": "code",
   "execution_count": 43,
   "metadata": {},
   "outputs": [
    {
     "name": "stdout",
     "output_type": "stream",
     "text": [
      "1 2\n"
     ]
    }
   ],
   "source": [
    "arr = Array()\n",
    "arr.append(1)\n",
    "arr.append(2)\n",
    "print(arr)"
   ]
  },
  {
   "cell_type": "code",
   "execution_count": 44,
   "metadata": {},
   "outputs": [
    {
     "name": "stdout",
     "output_type": "stream",
     "text": [
      "length of the array:  4\n",
      "Element 0 found at:  -1\n",
      "Element 3 found at:  2\n"
     ]
    }
   ],
   "source": [
    "arr.append(3)\n",
    "arr.append(4)\n",
    "print(\"length of the array: \", len(arr))\n",
    "index1 = arr.search(0)\n",
    "index2 = arr.search(3)\n",
    "print(\"Element 0 found at: \", index1)\n",
    "print(\"Element 3 found at: \", index2)"
   ]
  },
  {
   "cell_type": "code",
   "execution_count": 46,
   "metadata": {},
   "outputs": [
    {
     "name": "stdout",
     "output_type": "stream",
     "text": [
      "index 1 of the array:  2\n",
      "index 1 of the array:  100\n"
     ]
    }
   ],
   "source": [
    "print(\"index 1 of the array: \", arr.get(1))\n",
    "arr.set(1, 100)\n",
    "print(\"index 1 of the array: \", arr.get(1))"
   ]
  },
  {
   "cell_type": "code",
   "execution_count": 47,
   "metadata": {},
   "outputs": [
    {
     "name": "stdout",
     "output_type": "stream",
     "text": [
      "1 100 3 0\n"
     ]
    }
   ],
   "source": [
    "arr.delete()\n",
    "print(arr)"
   ]
  },
  {
   "cell_type": "markdown",
   "metadata": {},
   "source": [
    "### 2D array"
   ]
  },
  {
   "cell_type": "code",
   "execution_count": null,
   "metadata": {},
   "outputs": [],
   "source": []
  }
 ],
 "metadata": {
  "kernelspec": {
   "display_name": "Python 3",
   "language": "python",
   "name": "python3"
  },
  "language_info": {
   "codemirror_mode": {
    "name": "ipython",
    "version": 3
   },
   "file_extension": ".py",
   "mimetype": "text/x-python",
   "name": "python",
   "nbconvert_exporter": "python",
   "pygments_lexer": "ipython3",
   "version": "3.8.5"
  }
 },
 "nbformat": 4,
 "nbformat_minor": 4
}
